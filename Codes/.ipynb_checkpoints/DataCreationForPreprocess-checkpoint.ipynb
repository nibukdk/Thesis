{
 "cells": [
  {
   "cell_type": "code",
   "execution_count": 173,
   "metadata": {},
   "outputs": [],
   "source": [
    "import numpy as np\n",
    "import pandas as pd\n",
    "import random\n"
   ]
  },
  {
   "cell_type": "code",
   "execution_count": 174,
   "metadata": {},
   "outputs": [],
   "source": [
    "# List of Cities for Cities Column\n",
    "cities= ['Oulu', 'Tampere', 'Helsinki','Turku','Rovaniemi']*10\n"
   ]
  },
  {
   "cell_type": "code",
   "execution_count": 160,
   "metadata": {},
   "outputs": [],
   "source": [
    "# List of Salaries for Salaries Column\n",
    "salaries=[random.randint(2000,5000) for i in range(0,50)]"
   ]
  },
  {
   "cell_type": "code",
   "execution_count": 175,
   "metadata": {},
   "outputs": [],
   "source": [
    "# List of Years for years_of_experience Column\n",
    "years_of_experience = [random.randint(0,10) for i in range(0,50)]"
   ]
  },
  {
   "cell_type": "code",
   "execution_count": 162,
   "metadata": {},
   "outputs": [],
   "source": [
    "# Create Datframe from above lists\n",
    "df =  pd.DataFrame(data={'Years_of_Experience':years_of_experience, 'Cities': cities, 'Salaries':salaries} )"
   ]
  },
  {
   "cell_type": "code",
   "execution_count": 163,
   "metadata": {},
   "outputs": [],
   "source": [
    "# Replace 0 with NaN\n",
    "df=df.replace(0,np.nan) "
   ]
  },
  {
   "cell_type": "code",
   "execution_count": 164,
   "metadata": {},
   "outputs": [
    {
     "name": "stdout",
     "output_type": "stream",
     "text": [
      "Helsinki\n",
      "Tampere\n",
      "Turku\n",
      "Oulu\n",
      "Helsinki\n",
      "Turku\n"
     ]
    }
   ],
   "source": [
    "# Create Random Index \n",
    "index = [random.randint(0,49) for i in range(6) ]\n",
    "\n",
    "# Replace random values of Cities column with NaN\n",
    "for i in range(6):\n",
    "    print(df.loc[index[i],'Cities'])\n",
    "    df.loc[index[i],'Cities']=np.nan\n"
   ]
  },
  {
   "cell_type": "code",
   "execution_count": 169,
   "metadata": {},
   "outputs": [],
   "source": [
    "# Replace one salary value with NaN\n",
    "df.loc[35,'Salaries']= np.nan"
   ]
  },
  {
   "cell_type": "code",
   "execution_count": 170,
   "metadata": {},
   "outputs": [
    {
     "name": "stdout",
     "output_type": "stream",
     "text": [
      "<class 'pandas.core.frame.DataFrame'>\n",
      "RangeIndex: 50 entries, 0 to 49\n",
      "Data columns (total 3 columns):\n",
      "Years_of_Experience    44 non-null float64\n",
      "Cities                 44 non-null object\n",
      "Salaries               49 non-null float64\n",
      "dtypes: float64(2), object(1)\n",
      "memory usage: 1.2+ KB\n"
     ]
    }
   ],
   "source": [
    "#Check \n",
    "df.info()"
   ]
  },
  {
   "cell_type": "code",
   "execution_count": 177,
   "metadata": {},
   "outputs": [],
   "source": [
    "#Save dataframe to filename Raw Data To Preprocess.csv\n",
    "df.to_csv('Raw Data To Preprocess', index= False)"
   ]
  }
 ],
 "metadata": {
  "kernelspec": {
   "display_name": "Python 3",
   "language": "python",
   "name": "python3"
  },
  "language_info": {
   "codemirror_mode": {
    "name": "ipython",
    "version": 3
   },
   "file_extension": ".py",
   "mimetype": "text/x-python",
   "name": "python",
   "nbconvert_exporter": "python",
   "pygments_lexer": "ipython3",
   "version": "3.6.5"
  }
 },
 "nbformat": 4,
 "nbformat_minor": 2
}
